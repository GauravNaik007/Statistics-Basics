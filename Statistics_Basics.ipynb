{
  "nbformat": 4,
  "nbformat_minor": 0,
  "metadata": {
    "colab": {
      "provenance": []
    },
    "kernelspec": {
      "name": "python3",
      "display_name": "Python 3"
    },
    "language_info": {
      "name": "python"
    }
  },
  "cells": [
    {
      "cell_type": "markdown",
      "source": [
        "# **Theory**\n"
      ],
      "metadata": {
        "id": "vJK0N7DKjTkh"
      }
    },
    {
      "cell_type": "markdown",
      "source": [
        "1. What is statistics, and why is it important?\n",
        "    - Statistics is the science of collecting, organizing, analyzing, interpreting, and presenting data. It helps us understand data and make decisions based on it.\n",
        "    - Importance:\n",
        "        - Helps in making decisions (e.g., companies use it to know customer    preferences).\n",
        "        - Helps in understanding trends (e.g., population growth).\n",
        "        - Useful in research, education, economics, and daily life.\n",
        "---\n",
        "2. What are the two main types of statistics?\n",
        "    - Descriptive Statistics – Describes and summarizes data (e.g., average marks of students).\n",
        "    - Inferential Statistics – Makes predictions or inferences about a population based on a sample (e.g., predicting election results from a survey).\n",
        "---\n",
        "3. What are descriptive statistics?\n",
        "    - descriptive statistics is the  technique to describe or summarize data using numbers, charts, or tables.\n",
        "    - Example:\n",
        "        - Average (mean) height of students in a class.\n",
        "        - Pie chart showing students' favorite subjects.\n",
        "---\n",
        "4. What is inferential statistics?\n",
        "    - Inferential statistics uses data from a small group (sample) to make conclusions about a larger group (population).\n",
        "    - Example:\n",
        "      - Surveying 100 people in a city to guess the opinion of all residents.\n",
        "---\n",
        "5. What is sampling in statistics?\n",
        "    - Sampling is the process of selecting a part (sample) of a population to study.\n",
        "    - Example:\n",
        "      - Testing 10 bulbs out of 1000 in a factory for quality control.\n",
        "---\n",
        "6. What are the different types of sampling methods?\n",
        "\n",
        "  *  Simple Random Sampling: Every item has equal chance.\n",
        "  * Stratified Sampling: Dividing population into groups and sampling from each.\n",
        "  * Systematic Sampling: Selecting every nth item.\n",
        "  * Cluster Sampling: Selecting entire groups or clusters.\n",
        "  * Convenience Sampling: Choosing items that are easy to access.\n",
        "---\n",
        "7. What is the difference between random and non-random sampling?\n",
        "    - Random Sampling: Every member has an equal chance. It avoids bias.\n",
        "    - Non-Random Sampling: Selection is based on convenience or judgment. It can be biased.\n",
        "    - Example:\n",
        "      - Random: Lottery method\n",
        "      - Non-random: Asking only your friends in a survey.\n",
        "---\n",
        "8. Define and give examples of qualitative and quantitative data.\n",
        "    - Qualitative Data: Describes qualities or categories. (e.g., color of cars: red, blue)\n",
        "\n",
        "    - Quantitative Data: Describes numerical values. (e.g., number of students: 25)\n",
        "---\n",
        "9. What are the different types of data in statistics?\n",
        "    * Nominal – Names or categories (e.g., blood group: A, B)\n",
        "\n",
        "    * Ordinal – Ordered data (e.g., ranking: 1st, 2nd)\n",
        "\n",
        "    * Interval – Numbers without a true zero (e.g., temperature)\n",
        "\n",
        "    * Ratio – Numbers with a true zero (e.g., height, weight)\n",
        "---\n",
        "10. Explain nominal, ordinal, interval, and ratio levels of measurement.\n",
        "    * Nominal: Labels or names only (e.g., gender: male/female)\n",
        "\n",
        "    * Ordinal: Order matters, but difference is unknown (e.g., small, medium, large)\n",
        "\n",
        "    * Interval: Ordered with known differences but no true zero (e.g., 20°C, 30°C)\n",
        "\n",
        "    * Ratio: Same as interval, but has true zero (e.g., 0 kg, 10 kg)\n",
        "---\n",
        "\n",
        "11. What is the measure of central tendency?\n",
        "    - It tells us where the center or average of data lies.\n",
        "    -  Includes:\n",
        "      - Mean\n",
        "      - Median\n",
        "      - Mode\n",
        "    - It helps in understanding the overall pattern.\n",
        "---\n",
        "12. Define mean, median, and mode.\n",
        "    - Mean: The mean is the average of a dataset, calculated by summing all the values and dividing by the number of values.\n",
        "    - Median: The median is the middle value in a dataset when the values are arranged in ascending order. If there are two middle values, the median is the average of those two.\n",
        "    - Mode: The mode is the value that appears most frequently in a dataset. '\n",
        "---\n",
        "13. What is the significance of the measure of central tendency?\n",
        "    - It gives us a summary of the data and tells us what is typical or average.\n",
        "    - Example: Knowing the average salary of employees helps understand income level in a company.\n",
        "---\n",
        "14. What is variance, and how is it calculated?\n",
        "    - Variance is a statistical measure that quantifies the spread or dispersion of data points in a set, indicating how far they are from the mean (average).\n",
        "    - Variance =( ∑(xi-xˉ)^2)/n\n",
        "---\n",
        "15. What is standard deviation, and why is it important?\n",
        "    - Standard deviation is a statistical measure that quantifies the amount of variation or dispersion of a set of values from its mean (average).\n",
        "    -  Importance:\n",
        "        - Helps understand consistency.\n",
        "        - Lower standard deviation = more consistent data.\n",
        "---\n",
        "\n",
        "16. Define and explain the term range in statistics.\n",
        "    - In statistics, the range is a simple measure of dispersion that represents the difference between the highest and lowest values in a dataset.\n",
        "    - It provides a quick understanding of the spread or variability of the data.\n",
        "    - To calculate the range,  subtract the minimum value from the maximum value in the dataset.\n",
        "---\n",
        "17. What is the difference between variance and standard deviation?\n",
        "    - Variance: Average of squared differences\n",
        "\n",
        "    - Standard Deviation: Square root of variance\n",
        "    -  Example: Variance is in square  units; standard deviation is in original units.\n",
        "---\n",
        "18. What is skewness in a dataset?\n",
        "    - Skewness in a dataset refers to the asymmetry or lack of symmetry in the distribution of data points.\n",
        "---\n",
        "19. What does it mean if a dataset is positively or negatively skewed?\n",
        "    - A positively skewed distribution has a longer tail on the right side, meaning most values are clustered on the left with a few high outliers.\n",
        "    -  Conversely, a negatively skewed distribution has a longer tail on the left, with most values clustered on the right and some low outliers.\n",
        "---\n",
        "20. Define and explain kurtosis.\n",
        "    - Kurtosis measures the sharpness of the peak of a data distribution.\n",
        "    - High kurtosis: Sharp peak (many values close to the mean)\n",
        "    - Low kurtosis: Flat distribution (values are more spread out)\n",
        "---\n",
        "21. What is the purpose of covariance?\n",
        "    - Covariance shows whether two variables change together.\n",
        "    - Positive: Increase together\n",
        "    - Negative: One increases, other decreases\n",
        "    -  Example: Height and weight usually have positive covariance.\n",
        "---\n",
        "22. What does correlation measure in statistics?\n",
        "    - Correlation tells the strength and direction of a relationship between two variables.\n",
        "    -  Value is between -1 and +1:\n",
        "    - +1 → perfect positive\n",
        "    - -1 → perfect negative\n",
        "    - 0 → no correlation\n",
        "---\n",
        "23. What is the difference between covariance and correlation?\n",
        "    -  Covariance:\n",
        "        - Measures how two variables change together.\n",
        "        - Shows the direction of the relationship (positive or negative).\n",
        "        - The value can range from −∞ to +∞ (no fixed limit).\n",
        "        - Unit-dependent (depends on the units of the variables).\n",
        "        - Harder to interpret without context.\n",
        "\n",
        "    -  Correlation:\n",
        "        - Measures the strength and direction of a linear relationship.\n",
        "        - Value always lies between −1 and +1.\n",
        "        - +1 = Perfect positive relation, −1 = Perfect negative relation, 0 = No relation.\n",
        "        - Unit-free (standardized form of covariance).\n",
        "        - Easier to compare across datasets.\n",
        "---\n",
        "\n",
        "24. What are some real-world applications of statistics?\n",
        "    - Healthcare: Testing effectiveness of medicines\n",
        "\n",
        "    - Business: Analyzing sales data\n",
        "\n",
        "    - Education: Analyzing exam results\n",
        "\n",
        "    - Sports: Player performance stats\n",
        "\n",
        "    - Weather: Forecasting based on past data.\n",
        "---"
      ],
      "metadata": {
        "id": "0cxQCXavja5G"
      }
    },
    {
      "cell_type": "markdown",
      "source": [
        "# **Practical**"
      ],
      "metadata": {
        "id": "VITYm5nhp8U0"
      }
    },
    {
      "cell_type": "code",
      "source": [
        "#1. How do you calculate the mean, median, and mode of a dataset.\n",
        "import statistics\n",
        "\n",
        "data = [12, 15, 21, 15, 18, 21, 18, 15]\n",
        "\n",
        "mean = statistics.mean(data)\n",
        "median = statistics.median(data)\n",
        "mode = statistics.mode(data)\n",
        "\n",
        "print(\"Mean:\", mean)\n",
        "print(\"Median:\", median)\n",
        "print(\"Mode:\", mode)\n"
      ],
      "metadata": {
        "colab": {
          "base_uri": "https://localhost:8080/"
        },
        "id": "yUruWjfAslej",
        "outputId": "93b95c32-a5c5-48f5-ed38-d012ee620599"
      },
      "execution_count": null,
      "outputs": [
        {
          "output_type": "stream",
          "name": "stdout",
          "text": [
            "Mean: 16.875\n",
            "Median: 16.5\n",
            "Mode: 15\n"
          ]
        }
      ]
    },
    {
      "cell_type": "code",
      "source": [
        "#2. Write a Python program to compute the variance and standard deviation of a dataset.\n",
        "import statistics\n",
        "\n",
        "data = [10, 12, 23, 23, 16, 23, 21, 16]\n",
        "\n",
        "variance = statistics.variance(data)\n",
        "std_dev = statistics.stdev(data)\n",
        "\n",
        "print(\"Variance:\", variance)\n",
        "print(\"Standard Deviation:\", std_dev)\n"
      ],
      "metadata": {
        "colab": {
          "base_uri": "https://localhost:8080/"
        },
        "id": "DClkdzg_24nz",
        "outputId": "051be02c-176d-4466-9d3b-a9210feab4c0"
      },
      "execution_count": null,
      "outputs": [
        {
          "output_type": "stream",
          "name": "stdout",
          "text": [
            "Variance: 27.428571428571427\n",
            "Standard Deviation: 5.237229365663818\n"
          ]
        }
      ]
    },
    {
      "cell_type": "code",
      "source": [
        "#3. Create a dataset and classify it into nominal, ordinal, interval, and ratio types5\n",
        "dataset = {\n",
        "    \"Nominal\": [\"Red\", \"Blue\", \"Green\"],\n",
        "    \"Ordinal\": [\"Low\", \"Medium\", \"High\"],\n",
        "    \"Interval\": [10, 20, 30],   # No true zero\n",
        "    \"Ratio\": [5, 10, 15]        # True zero exists\n",
        "}\n",
        "\n",
        "for key, value in dataset.items():\n",
        "    print(f\"{key} data: {value}\")\n"
      ],
      "metadata": {
        "colab": {
          "base_uri": "https://localhost:8080/"
        },
        "id": "ogGVHdMk3AG7",
        "outputId": "38f11751-ce8c-4170-eed7-a7795cd78b08"
      },
      "execution_count": null,
      "outputs": [
        {
          "output_type": "stream",
          "name": "stdout",
          "text": [
            "Nominal data: ['Red', 'Blue', 'Green']\n",
            "Ordinal data: ['Low', 'Medium', 'High']\n",
            "Interval data: [10, 20, 30]\n",
            "Ratio data: [5, 10, 15]\n"
          ]
        }
      ]
    },
    {
      "cell_type": "code",
      "source": [
        "#4.Implement sampling techniques like random sampling and stratified sampling.\n",
        "import random\n",
        "import pandas as pd\n",
        "from sklearn.model_selection import train_test_split\n",
        "\n",
        "data = pd.DataFrame({'Name': ['A','B','C','D','E','F','G','H'], 'Group': ['X','X','Y','Y','X','Y','X','Y']})\n",
        "\n",
        "# Random Sampling\n",
        "random_sample = data.sample(n=4)\n",
        "print(\"Random Sample:\\n\", random_sample)\n",
        "\n",
        "# Stratified Sampling\n",
        "stratified_sample = data.groupby('Group', group_keys=False).apply(lambda x: x.sample(1))\n",
        "print(\"\\nStratified Sample:\\n\", stratified_sample)\n"
      ],
      "metadata": {
        "colab": {
          "base_uri": "https://localhost:8080/"
        },
        "id": "zpgUVBA83GMD",
        "outputId": "2e0062ca-fc50-44b4-9ff9-aed5d21d4203"
      },
      "execution_count": null,
      "outputs": [
        {
          "output_type": "stream",
          "name": "stdout",
          "text": [
            "Random Sample:\n",
            "   Name Group\n",
            "7    H     Y\n",
            "1    B     X\n",
            "6    G     X\n",
            "5    F     Y\n",
            "\n",
            "Stratified Sample:\n",
            "   Name Group\n",
            "1    B     X\n",
            "7    H     Y\n"
          ]
        },
        {
          "output_type": "stream",
          "name": "stderr",
          "text": [
            "/tmp/ipython-input-4-4099419514.py:13: DeprecationWarning: DataFrameGroupBy.apply operated on the grouping columns. This behavior is deprecated, and in a future version of pandas the grouping columns will be excluded from the operation. Either pass `include_groups=False` to exclude the groupings or explicitly select the grouping columns after groupby to silence this warning.\n",
            "  stratified_sample = data.groupby('Group', group_keys=False).apply(lambda x: x.sample(1))\n"
          ]
        }
      ]
    },
    {
      "cell_type": "code",
      "source": [
        "#5. Write a Python function to calculate the range of a dataset\n",
        "def calculate_range(data):\n",
        "    return max(data) - min(data)\n",
        "\n",
        "data = [3, 7, 9, 15, 21]\n",
        "print(\"Range:\", calculate_range(data))\n"
      ],
      "metadata": {
        "colab": {
          "base_uri": "https://localhost:8080/"
        },
        "id": "Wj6fizeH3GIb",
        "outputId": "4e8e80a7-8ead-498e-f320-34ccb94d5355"
      },
      "execution_count": null,
      "outputs": [
        {
          "output_type": "stream",
          "name": "stdout",
          "text": [
            "Range: 18\n"
          ]
        }
      ]
    },
    {
      "cell_type": "code",
      "source": [
        "#6. Create a dataset and plot its histogram to visualize skewness\n",
        "import matplotlib.pyplot as plt\n",
        "\n",
        "data = [1, 2, 2, 3, 3, 4, 5, 6, 7, 8, 20]\n",
        "plt.hist(data, bins=5)\n",
        "plt.title(\"Histogram\")\n",
        "plt.xlabel(\"Value\")\n",
        "plt.ylabel(\"Frequency\")\n",
        "plt.show()\n"
      ],
      "metadata": {
        "colab": {
          "base_uri": "https://localhost:8080/",
          "height": 472
        },
        "id": "vUxdrRcf3GCO",
        "outputId": "6425d777-69cb-43bf-fb56-104d9066a88b"
      },
      "execution_count": null,
      "outputs": [
        {
          "output_type": "display_data",
          "data": {
            "text/plain": [
              "<Figure size 640x480 with 1 Axes>"
            ],
            "image/png": "[encoded data removed]"
          },
          "metadata": {}
        }
      ]
    },
    {
      "cell_type": "code",
      "source": [
        "#7.Calculate skewness and kurtosis of a dataset using Python libraries.\n",
        "from scipy.stats import skew, kurtosis\n",
        "\n",
        "data = [1, 2, 3, 4, 5, 6, 7, 20]\n",
        "print(\"Skewness:\", skew(data))\n",
        "print(\"Kurtosis:\", kurtosis(data))\n"
      ],
      "metadata": {
        "id": "xzlCkVtY3ke2",
        "colab": {
          "base_uri": "https://localhost:8080/"
        },
        "outputId": "2f42ed7c-4673-4681-9647-a5491b1b76e5"
      },
      "execution_count": 1,
      "outputs": [
        {
          "output_type": "stream",
          "name": "stdout",
          "text": [
            "Skewness: 1.7817416127494958\n",
            "Kurtosis: 1.9629629629629628\n"
          ]
        }
      ]
    },
    {
      "cell_type": "code",
      "source": [
        "#8. Generate a dataset and demonstrate positive and negative skewness.\n",
        "import seaborn as sns\n",
        "import matplotlib.pyplot as plt\n",
        "\n",
        "# Positive skewed\n",
        "pos_skew = [1, 2, 2, 3, 4, 5, 20]\n",
        "sns.histplot(pos_skew, kde=True)\n",
        "plt.title(\"Positive Skew\")\n",
        "plt.show()\n",
        "\n",
        "# Negative skewed\n",
        "neg_skew = [20, 19, 18, 17, 15, 10, 5]\n",
        "sns.histplot(neg_skew, kde=True)\n",
        "plt.title(\"Negative Skew\")\n",
        "plt.show()\n"
      ],
      "metadata": {
        "colab": {
          "base_uri": "https://localhost:8080/",
          "height": 887
        },
        "id": "2Lc14o8HYQOg",
        "outputId": "b4bd173c-ccac-4e48-bcde-cc81d275a9ca"
      },
      "execution_count": 2,
      "outputs": [
        {
          "output_type": "display_data",
          "data": {
            "text/plain": [
              "<Figure size 640x480 with 1 Axes>"
            ],
            "image/png": "[encoded data removed]"
          },
          "metadata": {}
        },
        {
          "output_type": "display_data",
          "data": {
            "text/plain": [
              "<Figure size 640x480 with 1 Axes>"
            ],
            "image/png": "[encoded data removed]"
          },
          "metadata": {}
        }
      ]
    },
    {
      "cell_type": "code",
      "source": [
        "#9. Write a Python script to calculate covariance between two datasets.\n",
        "import numpy as np\n",
        "\n",
        "x = [2, 4, 6, 8]\n",
        "y = [1, 3, 5, 7]\n",
        "\n",
        "cov_matrix = np.cov(x, y)\n",
        "print(\"Covariance:\", cov_matrix[0, 1])\n"
      ],
      "metadata": {
        "colab": {
          "base_uri": "https://localhost:8080/"
        },
        "id": "NIEbbQFHYYSM",
        "outputId": "b00ca7fd-e903-422a-bb22-1f0abb499bc8"
      },
      "execution_count": 3,
      "outputs": [
        {
          "output_type": "stream",
          "name": "stdout",
          "text": [
            "Covariance: 6.666666666666666\n"
          ]
        }
      ]
    },
    {
      "cell_type": "code",
      "source": [
        "#10. Write a Python script to calculate the correlation coefficient between two datasets.\n",
        "import numpy as np\n",
        "\n",
        "x = [2, 4, 6, 8]\n",
        "y = [1, 3, 5, 7]\n",
        "\n",
        "corr_coef = np.corrcoef(x, y)\n",
        "print(\"Correlation Coefficient:\", corr_coef[0, 1])\n"
      ],
      "metadata": {
        "colab": {
          "base_uri": "https://localhost:8080/"
        },
        "id": "vi3_dxmgYX1L",
        "outputId": "b811eace-97d6-4ef2-a41e-62c6bdfedc98"
      },
      "execution_count": 4,
      "outputs": [
        {
          "output_type": "stream",
          "name": "stdout",
          "text": [
            "Correlation Coefficient: 1.0\n"
          ]
        }
      ]
    },
    {
      "cell_type": "code",
      "source": [
        "#11.Create a scatter plot to visualize the relationship between two variables.\n",
        " matplotlib.pyplot as plt\n",
        "\n",
        "x = [1, 2, 3, 4, 5]\n",
        "y = [2, 4, 5, 4, 5]\n",
        "\n",
        "plt.scatter(x, y)\n",
        "plt.title(\"Scatter Plot\")\n",
        "plt.xlabel(\"X\")\n",
        "plt.ylabel(\"Y\")\n",
        "plt.show()\n"
      ],
      "metadata": {
        "colab": {
          "base_uri": "https://localhost:8080/",
          "height": 472
        },
        "id": "zmYn8bhyYknf",
        "outputId": "c8313af3-a61e-4908-e6ef-760200d2e81d"
      },
      "execution_count": 5,
      "outputs": [
        {
          "output_type": "display_data",
          "data": {
            "text/plain": [
              "<Figure size 640x480 with 1 Axes>"
            ],
            "image/png": "[encoded data removed]"
          },
          "metadata": {}
        }
      ]
    },
    {
      "cell_type": "code",
      "source": [
        "#12.Implement and compare simple random sampling and systematic sampling.\n",
        "import numpy as np\n",
        "import pandas as pd\n",
        "\n",
        "data = pd.DataFrame({'ID': np.arange(1, 21)})\n",
        "\n",
        "# Simple Random Sampling\n",
        "simple_sample = data.sample(n=5)\n",
        "\n",
        "# Systematic Sampling\n",
        "k = 4\n",
        "systematic_sample = data.iloc[::k]\n",
        "\n",
        "print(\"Simple Random:\\n\", simple_sample)\n",
        "print(\"\\nSystematic:\\n\", systematic_sample)\n"
      ],
      "metadata": {
        "colab": {
          "base_uri": "https://localhost:8080/"
        },
        "id": "g3MDidIJYsL_",
        "outputId": "baeb164f-b1bb-4171-a672-5ab821ade60e"
      },
      "execution_count": 6,
      "outputs": [
        {
          "output_type": "stream",
          "name": "stdout",
          "text": [
            "Simple Random:\n",
            "     ID\n",
            "0    1\n",
            "16  17\n",
            "3    4\n",
            "14  15\n",
            "1    2\n",
            "\n",
            "Systematic:\n",
            "     ID\n",
            "0    1\n",
            "4    5\n",
            "8    9\n",
            "12  13\n",
            "16  17\n"
          ]
        }
      ]
    },
    {
      "cell_type": "code",
      "source": [
        "#13.Calculate the mean, median, and mode of grouped data.\n",
        "import pandas as pd\n",
        "\n",
        "# Class intervals and frequencies\n",
        "classes = ['0-10', '10-20', '20-30']\n",
        "frequencies = [5, 10, 5]\n",
        "\n",
        "# Midpoints\n",
        "midpoints = [5, 15, 25]\n",
        "total_freq = sum(frequencies)\n",
        "\n",
        "mean = sum([f * m for f, m in zip(frequencies, midpoints)]) / total_freq\n",
        "\n",
        "print(\"Grouped Mean:\", mean)\n"
      ],
      "metadata": {
        "colab": {
          "base_uri": "https://localhost:8080/"
        },
        "id": "4NDPRutdYyF1",
        "outputId": "c018d51f-28d6-49ce-c248-f0af4d21826f"
      },
      "execution_count": 7,
      "outputs": [
        {
          "output_type": "stream",
          "name": "stdout",
          "text": [
            "Grouped Mean: 15.0\n"
          ]
        }
      ]
    },
    {
      "cell_type": "code",
      "source": [
        "#14.Simulate data using Python and calculate its central tendency and dispersion.\n",
        "import numpy as np\n",
        "import statistics\n",
        "\n",
        "# Simulate random data\n",
        "data = np.random.normal(loc=50, scale=10, size=100)\n",
        "\n",
        "mean = np.mean(data)\n",
        "median = np.median(data)\n",
        "std_dev = np.std(data)\n",
        "\n",
        "print(\"Mean:\", mean)\n",
        "print(\"Median:\", median)\n",
        "print(\"Standard Deviation:\", std_dev)\n"
      ],
      "metadata": {
        "colab": {
          "base_uri": "https://localhost:8080/"
        },
        "id": "A2u_fypjY3kk",
        "outputId": "d16f0e45-3a19-4dc2-db7d-db3121e3a98c"
      },
      "execution_count": 8,
      "outputs": [
        {
          "output_type": "stream",
          "name": "stdout",
          "text": [
            "Mean: 48.98551057532549\n",
            "Median: 50.20400078314865\n",
            "Standard Deviation: 10.567270166625413\n"
          ]
        }
      ]
    },
    {
      "cell_type": "code",
      "source": [
        "#15.Use NumPy or pandas to summarize a dataset’s descriptive statistics.\n",
        "import pandas as pd\n",
        "import numpy as np\n",
        "\n",
        "data = pd.DataFrame({\n",
        "    'Marks': [45, 67, 89, 55, 78, 90, 65, 87]\n",
        "})\n",
        "\n",
        "print(data.describe())\n"
      ],
      "metadata": {
        "colab": {
          "base_uri": "https://localhost:8080/"
        },
        "id": "SBD2VIolY9LH",
        "outputId": "0655809f-e7db-44da-eb18-fa2c75b620ef"
      },
      "execution_count": 9,
      "outputs": [
        {
          "output_type": "stream",
          "name": "stdout",
          "text": [
            "           Marks\n",
            "count   8.000000\n",
            "mean   72.000000\n",
            "std    16.758793\n",
            "min    45.000000\n",
            "25%    62.500000\n",
            "50%    72.500000\n",
            "75%    87.500000\n",
            "max    90.000000\n"
          ]
        }
      ]
    },
    {
      "cell_type": "code",
      "source": [
        "#16. Plot a boxplot to understand the spread and identify outliers.\n",
        "import matplotlib.pyplot as plt\n",
        "\n",
        "data = [12, 15, 14, 16, 22, 87, 90, 23, 15]\n",
        "\n",
        "plt.boxplot(data)\n",
        "plt.title(\"Boxplot of Dataset\")\n",
        "plt.show()\n"
      ],
      "metadata": {
        "colab": {
          "base_uri": "https://localhost:8080/",
          "height": 452
        },
        "id": "qTVPd26uZL4a",
        "outputId": "fda0a488-7295-4dd5-964c-f47cb80c82da"
      },
      "execution_count": 10,
      "outputs": [
        {
          "output_type": "display_data",
          "data": {
            "text/plain": [
              "<Figure size 640x480 with 1 Axes>"
            ],
            "image/png": "[encoded data removed]"
          },
          "metadata": {}
        }
      ]
    },
    {
      "cell_type": "code",
      "source": [
        "#17.Calculate the interquartile range (IQR) of a dataset.\n",
        "import numpy as np\n",
        "\n",
        "data = [12, 15, 14, 16, 22, 87, 90, 23, 15]\n",
        "\n",
        "Q1 = np.percentile(data, 25)\n",
        "Q3 = np.percentile(data, 75)\n",
        "IQR = Q3 - Q1\n",
        "\n",
        "print(\"Q1:\", Q1)\n",
        "print(\"Q3:\", Q3)\n",
        "print(\"IQR:\", IQR)\n"
      ],
      "metadata": {
        "colab": {
          "base_uri": "https://localhost:8080/"
        },
        "id": "10hN59T4ZRK6",
        "outputId": "0cc23253-77db-4a12-c044-3711dc6a862d"
      },
      "execution_count": 11,
      "outputs": [
        {
          "output_type": "stream",
          "name": "stdout",
          "text": [
            "Q1: 15.0\n",
            "Q3: 23.0\n",
            "IQR: 8.0\n"
          ]
        }
      ]
    },
    {
      "cell_type": "code",
      "source": [
        "#18. Implement Z-score normalization and explain its significance.\n",
        "from scipy.stats import zscore\n",
        "import pandas as pd\n",
        "\n",
        "df = pd.DataFrame({'Value': [12, 15, 14, 16, 22, 87, 90, 23, 15]})\n",
        "df['Z-score'] = zscore(df['Value'])\n",
        "\n",
        "print(df)\n"
      ],
      "metadata": {
        "colab": {
          "base_uri": "https://localhost:8080/"
        },
        "id": "sY__yYy8ZRDK",
        "outputId": "cfe92d23-d188-4d74-8fac-2de1fe360cdd"
      },
      "execution_count": 12,
      "outputs": [
        {
          "output_type": "stream",
          "name": "stdout",
          "text": [
            "   Value   Z-score\n",
            "0     12 -0.687871\n",
            "1     15 -0.588018\n",
            "2     14 -0.621302\n",
            "3     16 -0.554734\n",
            "4     22 -0.355030\n",
            "5     87  1.808434\n",
            "6     90  1.908286\n",
            "7     23 -0.321746\n",
            "8     15 -0.588018\n"
          ]
        }
      ]
    },
    {
      "cell_type": "code",
      "source": [
        "#19.Compare two datasets using their standard deviations.\n",
        "import statistics\n",
        "\n",
        "data1 = [10, 20, 30, 40, 50]\n",
        "data2 = [5, 25, 45, 65, 85]\n",
        "\n",
        "print(\"Std Dev of data1:\", statistics.stdev(data1))\n",
        "print(\"Std Dev of data2:\", statistics.stdev(data2))\n"
      ],
      "metadata": {
        "colab": {
          "base_uri": "https://localhost:8080/"
        },
        "id": "14YB8igyZbGl",
        "outputId": "84847150-10b1-435d-b7a9-c1da60212ef4"
      },
      "execution_count": 13,
      "outputs": [
        {
          "output_type": "stream",
          "name": "stdout",
          "text": [
            "Std Dev of data1: 15.811388300841896\n",
            "Std Dev of data2: 31.622776601683793\n"
          ]
        }
      ]
    },
    {
      "cell_type": "code",
      "source": [
        "#20.Write a Python program to visualize covariance using a heatmap.\n",
        "import seaborn as sns\n",
        "import pandas as pd\n",
        "import numpy as np\n",
        "\n",
        "df = pd.DataFrame({\n",
        "    'Math': np.random.randint(50, 100, 10),\n",
        "    'Science': np.random.randint(50, 100, 10)\n",
        "})\n",
        "\n",
        "cov_matrix = df.cov()\n",
        "sns.heatmap(cov_matrix, annot=True)\n",
        "plt.title(\"Covariance Heatmap\")\n",
        "plt.show()\n"
      ],
      "metadata": {
        "colab": {
          "base_uri": "https://localhost:8080/",
          "height": 452
        },
        "id": "CrHKXxRtZhwY",
        "outputId": "53d92a94-dd13-44c4-c0de-9a73a112f0c0"
      },
      "execution_count": 14,
      "outputs": [
        {
          "output_type": "display_data",
          "data": {
            "text/plain": [
              "<Figure size 640x480 with 2 Axes>"
            ],
            "image/png": "[encoded data removed]"
          },
          "metadata": {}
        }
      ]
    },
    {
      "cell_type": "code",
      "source": [
        "#21. Use seaborn to create a correlation matrix for a dataset.\n",
        "import seaborn as sns\n",
        "import pandas as pd\n",
        "import numpy as np\n",
        "\n",
        "df = pd.DataFrame({\n",
        "    'Math': np.random.randint(50, 100, 10),\n",
        "    'Science': np.random.randint(50, 100, 10),\n",
        "    'English': np.random.randint(50, 100, 10)\n",
        "})\n",
        "\n",
        "corr = df.corr()\n",
        "sns.heatmap(corr, annot=True, cmap='coolwarm')\n",
        "plt.title(\"Correlation Matrix\")\n",
        "plt.show()\n"
      ],
      "metadata": {
        "colab": {
          "base_uri": "https://localhost:8080/",
          "height": 452
        },
        "id": "jPltgwCRZnKm",
        "outputId": "a79c2057-8ff1-4201-f94a-2232ae683913"
      },
      "execution_count": 15,
      "outputs": [
        {
          "output_type": "display_data",
          "data": {
            "text/plain": [
              "<Figure size 640x480 with 2 Axes>"
            ],
            "image/png": "[encoded data removed]"
          },
          "metadata": {}
        }
      ]
    },
    {
      "cell_type": "code",
      "source": [
        "#22.Generate a dataset and implement both variance and standard deviation computations.\n",
        "import numpy as np\n",
        "\n",
        "data = np.random.randint(10, 100, 20)\n",
        "\n",
        "print(\"Data:\", data)\n",
        "print(\"Variance:\", np.var(data))\n",
        "print(\"Standard Deviation:\", np.std(data))\n"
      ],
      "metadata": {
        "colab": {
          "base_uri": "https://localhost:8080/"
        },
        "id": "KnnP35b2ZtBM",
        "outputId": "ad3dbcb9-6312-4034-f4c1-759f8ad9c8d6"
      },
      "execution_count": 16,
      "outputs": [
        {
          "output_type": "stream",
          "name": "stdout",
          "text": [
            "Data: [77 70 73 58 27 34 83 27 68 99 58 39 13 81 47 70 46 91 72 17]\n",
            "Variance: 595.95\n",
            "Standard Deviation: 24.412087170088512\n"
          ]
        }
      ]
    },
    {
      "cell_type": "code",
      "source": [
        "#23.  Visualize skewness and kurtosis using Python libraries like matplotlib or seaborn.\n",
        "import seaborn as sns\n",
        "import matplotlib.pyplot as plt\n",
        "from scipy.stats import skew, kurtosis\n",
        "\n",
        "data = np.random.normal(0, 1, 1000)\n",
        "\n",
        "sns.histplot(data, kde=True)\n",
        "plt.title(\"Distribution with Skewness & Kurtosis\")\n",
        "plt.show()\n",
        "\n",
        "print(\"Skewness:\", skew(data))\n",
        "print(\"Kurtosis:\", kurtosis(data))\n"
      ],
      "metadata": {
        "colab": {
          "base_uri": "https://localhost:8080/",
          "height": 487
        },
        "id": "THKiPA3tZyct",
        "outputId": "3e0ebfc6-0615-4304-e71d-8b09d6b8d28b"
      },
      "execution_count": 17,
      "outputs": [
        {
          "output_type": "display_data",
          "data": {
            "text/plain": [
              "<Figure size 640x480 with 1 Axes>"
            ],
            "image/png": "[encoded data removed]"
          },
          "metadata": {}
        },
        {
          "output_type": "stream",
          "name": "stdout",
          "text": [
            "Skewness: 0.009480392192635193\n",
            "Kurtosis: -0.15507066217723287\n"
          ]
        }
      ]
    },
    {
      "cell_type": "code",
      "source": [
        "#24. Implement the Pearson and Spearman correlation coefficients for a dataset.\n",
        "from scipy.stats import pearsonr, spearmanr\n",
        "\n",
        "x = [10, 20, 30, 40, 50]\n",
        "y = [12, 24, 33, 45, 55]\n",
        "\n",
        "pearson_corr, _ = pearsonr(x, y)\n",
        "spearman_corr, _ = spearmanr(x, y)\n",
        "\n",
        "print(\"Pearson Correlation:\", pearson_corr)\n",
        "print(\"Spearman Correlation:\", spearman_corr)\n"
      ],
      "metadata": {
        "colab": {
          "base_uri": "https://localhost:8080/"
        },
        "id": "OmrDYlMJZ4Zz",
        "outputId": "a80d5ad2-1cb6-4d04-c63e-77290d3723e2"
      },
      "execution_count": 18,
      "outputs": [
        {
          "output_type": "stream",
          "name": "stdout",
          "text": [
            "Pearson Correlation: 0.9991712645513415\n",
            "Spearman Correlation: 0.9999999999999999\n"
          ]
        }
      ]
    }
  ]
}